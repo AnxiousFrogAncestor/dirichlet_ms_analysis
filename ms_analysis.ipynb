{
 "cells": [
  {
   "cell_type": "code",
   "execution_count": 1,
   "id": "8d3f1a27-d65c-4429-a9b9-c7753f1828a0",
   "metadata": {},
   "outputs": [],
   "source": [
    "import pandas as pd"
   ]
  },
  {
   "cell_type": "markdown",
   "id": "a7965ca4-23b4-467a-9d7f-0b2f57639128",
   "metadata": {},
   "source": [
    "# Dataloading"
   ]
  },
  {
   "cell_type": "markdown",
   "id": "a476b07c-f2c3-4b6f-8443-9bb3ffbecbf7",
   "metadata": {},
   "source": [
    "Data source: https://www.kaggle.com/datasets/mkechinov/ecommerce-behavior-data-from-multi-category-store"
   ]
  },
  {
   "cell_type": "code",
   "execution_count": 2,
   "id": "d9d87e84-c26c-4149-a70d-567a66dfcf80",
   "metadata": {},
   "outputs": [],
   "source": [
    "df = pd.read_csv(\"2019-Dec.csv\")"
   ]
  },
  {
   "cell_type": "code",
   "execution_count": 3,
   "id": "4992ca07-dd95-4451-9636-da14e40bd333",
   "metadata": {},
   "outputs": [],
   "source": [
    "df.dropna(inplace=True)"
   ]
  },
  {
   "cell_type": "code",
   "execution_count": 4,
   "id": "1291bc36-b1ca-4605-ae5a-d1c4f45e370c",
   "metadata": {},
   "outputs": [
    {
     "data": {
      "text/html": [
       "<div>\n",
       "<style scoped>\n",
       "    .dataframe tbody tr th:only-of-type {\n",
       "        vertical-align: middle;\n",
       "    }\n",
       "\n",
       "    .dataframe tbody tr th {\n",
       "        vertical-align: top;\n",
       "    }\n",
       "\n",
       "    .dataframe thead th {\n",
       "        text-align: right;\n",
       "    }\n",
       "</style>\n",
       "<table border=\"1\" class=\"dataframe\">\n",
       "  <thead>\n",
       "    <tr style=\"text-align: right;\">\n",
       "      <th></th>\n",
       "      <th>event_time</th>\n",
       "      <th>event_type</th>\n",
       "      <th>product_id</th>\n",
       "      <th>category_id</th>\n",
       "      <th>category_code</th>\n",
       "      <th>brand</th>\n",
       "      <th>price</th>\n",
       "      <th>user_id</th>\n",
       "      <th>user_session</th>\n",
       "    </tr>\n",
       "  </thead>\n",
       "  <tbody>\n",
       "    <tr>\n",
       "      <th>33</th>\n",
       "      <td>2019-12-01 00:01:47 UTC</td>\n",
       "      <td>view</td>\n",
       "      <td>5732026</td>\n",
       "      <td>1487580011970953351</td>\n",
       "      <td>furniture.bathroom.bath</td>\n",
       "      <td>domix</td>\n",
       "      <td>4.16</td>\n",
       "      <td>509445281</td>\n",
       "      <td>91e9d610-759a-4831-b89a-22f2ab5fbc0f</td>\n",
       "    </tr>\n",
       "    <tr>\n",
       "      <th>52</th>\n",
       "      <td>2019-12-01 00:02:42 UTC</td>\n",
       "      <td>view</td>\n",
       "      <td>5746846</td>\n",
       "      <td>2193074740686488401</td>\n",
       "      <td>furniture.bathroom.bath</td>\n",
       "      <td>irisk</td>\n",
       "      <td>52.70</td>\n",
       "      <td>579970581</td>\n",
       "      <td>0b92a801-25d8-4da5-b514-fda26db3faae</td>\n",
       "    </tr>\n",
       "    <tr>\n",
       "      <th>90</th>\n",
       "      <td>2019-12-01 00:03:48 UTC</td>\n",
       "      <td>view</td>\n",
       "      <td>5884577</td>\n",
       "      <td>1487580006350586771</td>\n",
       "      <td>appliances.environment.vacuum</td>\n",
       "      <td>max</td>\n",
       "      <td>47.46</td>\n",
       "      <td>499259978</td>\n",
       "      <td>4ee80bbb-17cb-447d-9188-9aa306db3481</td>\n",
       "    </tr>\n",
       "    <tr>\n",
       "      <th>112</th>\n",
       "      <td>2019-12-01 00:04:19 UTC</td>\n",
       "      <td>view</td>\n",
       "      <td>5855507</td>\n",
       "      <td>1487580006350586771</td>\n",
       "      <td>appliances.environment.vacuum</td>\n",
       "      <td>max</td>\n",
       "      <td>79.21</td>\n",
       "      <td>499259978</td>\n",
       "      <td>4ee80bbb-17cb-447d-9188-9aa306db3481</td>\n",
       "    </tr>\n",
       "    <tr>\n",
       "      <th>138</th>\n",
       "      <td>2019-12-01 00:05:14 UTC</td>\n",
       "      <td>view</td>\n",
       "      <td>5884578</td>\n",
       "      <td>1487580006350586771</td>\n",
       "      <td>appliances.environment.vacuum</td>\n",
       "      <td>max</td>\n",
       "      <td>63.33</td>\n",
       "      <td>499259978</td>\n",
       "      <td>4ee80bbb-17cb-447d-9188-9aa306db3481</td>\n",
       "    </tr>\n",
       "  </tbody>\n",
       "</table>\n",
       "</div>"
      ],
      "text/plain": [
       "                  event_time event_type  product_id          category_id  \\\n",
       "33   2019-12-01 00:01:47 UTC       view     5732026  1487580011970953351   \n",
       "52   2019-12-01 00:02:42 UTC       view     5746846  2193074740686488401   \n",
       "90   2019-12-01 00:03:48 UTC       view     5884577  1487580006350586771   \n",
       "112  2019-12-01 00:04:19 UTC       view     5855507  1487580006350586771   \n",
       "138  2019-12-01 00:05:14 UTC       view     5884578  1487580006350586771   \n",
       "\n",
       "                     category_code  brand  price    user_id  \\\n",
       "33         furniture.bathroom.bath  domix   4.16  509445281   \n",
       "52         furniture.bathroom.bath  irisk  52.70  579970581   \n",
       "90   appliances.environment.vacuum    max  47.46  499259978   \n",
       "112  appliances.environment.vacuum    max  79.21  499259978   \n",
       "138  appliances.environment.vacuum    max  63.33  499259978   \n",
       "\n",
       "                             user_session  \n",
       "33   91e9d610-759a-4831-b89a-22f2ab5fbc0f  \n",
       "52   0b92a801-25d8-4da5-b514-fda26db3faae  \n",
       "90   4ee80bbb-17cb-447d-9188-9aa306db3481  \n",
       "112  4ee80bbb-17cb-447d-9188-9aa306db3481  \n",
       "138  4ee80bbb-17cb-447d-9188-9aa306db3481  "
      ]
     },
     "execution_count": 4,
     "metadata": {},
     "output_type": "execute_result"
    }
   ],
   "source": [
    "df.head()"
   ]
  },
  {
   "cell_type": "code",
   "execution_count": 5,
   "id": "04ba438c-c828-4154-b054-3674e3ac97f0",
   "metadata": {},
   "outputs": [
    {
     "data": {
      "text/plain": [
       "array(['view', 'cart', 'remove_from_cart', 'purchase'], dtype=object)"
      ]
     },
     "execution_count": 5,
     "metadata": {},
     "output_type": "execute_result"
    }
   ],
   "source": [
    "df[\"event_type\"].unique()"
   ]
  },
  {
   "cell_type": "code",
   "execution_count": 6,
   "id": "e456fd45-0726-43ca-93f9-67ac81e27618",
   "metadata": {},
   "outputs": [],
   "source": [
    "purchase_df = df[df[\"event_type\"]==\"purchase\"]"
   ]
  },
  {
   "cell_type": "code",
   "execution_count": 7,
   "id": "4d17d3bd-e6b2-4596-ac7c-4ad67d9e947f",
   "metadata": {},
   "outputs": [
    {
     "data": {
      "text/plain": [
       "array(['furniture.bathroom.bath', 'appliances.environment.vacuum',\n",
       "       'stationery.cartrige', 'apparel.glove', 'accessories.cosmetic_bag',\n",
       "       'accessories.bag', 'furniture.living_room.cabinet',\n",
       "       'appliances.personal.hair_cutter',\n",
       "       'appliances.environment.air_conditioner'], dtype=object)"
      ]
     },
     "execution_count": 7,
     "metadata": {},
     "output_type": "execute_result"
    }
   ],
   "source": [
    "df[\"category_code\"].unique()"
   ]
  },
  {
   "cell_type": "code",
   "execution_count": 8,
   "id": "a03a3b06-c032-4c74-9597-27a7d494bbe7",
   "metadata": {},
   "outputs": [
    {
     "data": {
      "text/plain": [
       "category_code\n",
       "accessories.bag                             9\n",
       "accessories.cosmetic_bag                    8\n",
       "apparel.glove                             542\n",
       "appliances.environment.air_conditioner      2\n",
       "appliances.environment.vacuum             533\n",
       "appliances.personal.hair_cutter             5\n",
       "furniture.bathroom.bath                   125\n",
       "furniture.living_room.cabinet              17\n",
       "stationery.cartrige                       870\n",
       "dtype: int64"
      ]
     },
     "execution_count": 8,
     "metadata": {},
     "output_type": "execute_result"
    }
   ],
   "source": [
    "purchase_df.groupby(\"category_code\").size()"
   ]
  },
  {
   "cell_type": "markdown",
   "id": "296b865c-91f1-4542-af46-608d1c519299",
   "metadata": {},
   "source": [
    "We will consider only the market share of the largest category."
   ]
  },
  {
   "cell_type": "code",
   "execution_count": 9,
   "id": "ff36770c-3d04-4a43-a154-7b85b2de57df",
   "metadata": {},
   "outputs": [],
   "source": [
    "cartridge_df = purchase_df[purchase_df[\"category_code\"]==\"stationery.cartrige\"]"
   ]
  },
  {
   "cell_type": "code",
   "execution_count": 10,
   "id": "d408a32c-aa4e-4bbe-a982-c213c6cae94c",
   "metadata": {},
   "outputs": [
    {
     "data": {
      "text/html": [
       "<div>\n",
       "<style scoped>\n",
       "    .dataframe tbody tr th:only-of-type {\n",
       "        vertical-align: middle;\n",
       "    }\n",
       "\n",
       "    .dataframe tbody tr th {\n",
       "        vertical-align: top;\n",
       "    }\n",
       "\n",
       "    .dataframe thead th {\n",
       "        text-align: right;\n",
       "    }\n",
       "</style>\n",
       "<table border=\"1\" class=\"dataframe\">\n",
       "  <thead>\n",
       "    <tr style=\"text-align: right;\">\n",
       "      <th></th>\n",
       "      <th>event_time</th>\n",
       "      <th>event_type</th>\n",
       "      <th>product_id</th>\n",
       "      <th>category_id</th>\n",
       "      <th>category_code</th>\n",
       "      <th>brand</th>\n",
       "      <th>price</th>\n",
       "      <th>user_id</th>\n",
       "      <th>user_session</th>\n",
       "    </tr>\n",
       "  </thead>\n",
       "  <tbody>\n",
       "    <tr>\n",
       "      <th>50716</th>\n",
       "      <td>2019-12-01 12:31:50 UTC</td>\n",
       "      <td>purchase</td>\n",
       "      <td>5749198</td>\n",
       "      <td>1487580013053083824</td>\n",
       "      <td>stationery.cartrige</td>\n",
       "      <td>italwax</td>\n",
       "      <td>1.98</td>\n",
       "      <td>580143586</td>\n",
       "      <td>f3922290-7fa4-1baa-fe3f-ca74c2eb2864</td>\n",
       "    </tr>\n",
       "    <tr>\n",
       "      <th>53352</th>\n",
       "      <td>2019-12-01 12:54:34 UTC</td>\n",
       "      <td>purchase</td>\n",
       "      <td>5749199</td>\n",
       "      <td>1487580013053083824</td>\n",
       "      <td>stationery.cartrige</td>\n",
       "      <td>italwax</td>\n",
       "      <td>1.98</td>\n",
       "      <td>565007305</td>\n",
       "      <td>2a31198f-a493-4133-90fc-e4a057f27dd3</td>\n",
       "    </tr>\n",
       "    <tr>\n",
       "      <th>53353</th>\n",
       "      <td>2019-12-01 12:54:34 UTC</td>\n",
       "      <td>purchase</td>\n",
       "      <td>5743974</td>\n",
       "      <td>1487580013053083824</td>\n",
       "      <td>stationery.cartrige</td>\n",
       "      <td>italwax</td>\n",
       "      <td>1.98</td>\n",
       "      <td>565007305</td>\n",
       "      <td>2a31198f-a493-4133-90fc-e4a057f27dd3</td>\n",
       "    </tr>\n",
       "    <tr>\n",
       "      <th>61622</th>\n",
       "      <td>2019-12-01 14:12:43 UTC</td>\n",
       "      <td>purchase</td>\n",
       "      <td>5767492</td>\n",
       "      <td>1487580013053083824</td>\n",
       "      <td>stationery.cartrige</td>\n",
       "      <td>italwax</td>\n",
       "      <td>1.98</td>\n",
       "      <td>580289157</td>\n",
       "      <td>ff5aadd2-42f5-4347-9f00-41934e79d69c</td>\n",
       "    </tr>\n",
       "    <tr>\n",
       "      <th>61623</th>\n",
       "      <td>2019-12-01 14:12:43 UTC</td>\n",
       "      <td>purchase</td>\n",
       "      <td>5775814</td>\n",
       "      <td>1487580013053083824</td>\n",
       "      <td>stationery.cartrige</td>\n",
       "      <td>italwax</td>\n",
       "      <td>1.98</td>\n",
       "      <td>580289157</td>\n",
       "      <td>ff5aadd2-42f5-4347-9f00-41934e79d69c</td>\n",
       "    </tr>\n",
       "    <tr>\n",
       "      <th>...</th>\n",
       "      <td>...</td>\n",
       "      <td>...</td>\n",
       "      <td>...</td>\n",
       "      <td>...</td>\n",
       "      <td>...</td>\n",
       "      <td>...</td>\n",
       "      <td>...</td>\n",
       "      <td>...</td>\n",
       "      <td>...</td>\n",
       "    </tr>\n",
       "    <tr>\n",
       "      <th>3494737</th>\n",
       "      <td>2019-12-30 20:27:25 UTC</td>\n",
       "      <td>purchase</td>\n",
       "      <td>5788783</td>\n",
       "      <td>1487580013053083824</td>\n",
       "      <td>stationery.cartrige</td>\n",
       "      <td>italwax</td>\n",
       "      <td>1.98</td>\n",
       "      <td>594898291</td>\n",
       "      <td>7bdae0c9-f1c9-4da6-a467-5a4b59e06dd8</td>\n",
       "    </tr>\n",
       "    <tr>\n",
       "      <th>3494738</th>\n",
       "      <td>2019-12-30 20:27:25 UTC</td>\n",
       "      <td>purchase</td>\n",
       "      <td>5820598</td>\n",
       "      <td>1487580013053083824</td>\n",
       "      <td>stationery.cartrige</td>\n",
       "      <td>yoko</td>\n",
       "      <td>2.17</td>\n",
       "      <td>594898291</td>\n",
       "      <td>7bdae0c9-f1c9-4da6-a467-5a4b59e06dd8</td>\n",
       "    </tr>\n",
       "    <tr>\n",
       "      <th>3521095</th>\n",
       "      <td>2019-12-31 13:30:39 UTC</td>\n",
       "      <td>purchase</td>\n",
       "      <td>5788781</td>\n",
       "      <td>1487580013053083824</td>\n",
       "      <td>stationery.cartrige</td>\n",
       "      <td>italwax</td>\n",
       "      <td>1.98</td>\n",
       "      <td>590930962</td>\n",
       "      <td>11163a77-6b54-4242-88de-15ecceb72835</td>\n",
       "    </tr>\n",
       "    <tr>\n",
       "      <th>3526621</th>\n",
       "      <td>2019-12-31 17:05:26 UTC</td>\n",
       "      <td>purchase</td>\n",
       "      <td>5749199</td>\n",
       "      <td>1487580013053083824</td>\n",
       "      <td>stationery.cartrige</td>\n",
       "      <td>italwax</td>\n",
       "      <td>1.98</td>\n",
       "      <td>594988969</td>\n",
       "      <td>cf485924-6d13-1300-1b1d-28dc9e80e61e</td>\n",
       "    </tr>\n",
       "    <tr>\n",
       "      <th>3526623</th>\n",
       "      <td>2019-12-31 17:05:26 UTC</td>\n",
       "      <td>purchase</td>\n",
       "      <td>5766980</td>\n",
       "      <td>1487580013053083824</td>\n",
       "      <td>stationery.cartrige</td>\n",
       "      <td>italwax</td>\n",
       "      <td>1.98</td>\n",
       "      <td>594988969</td>\n",
       "      <td>cf485924-6d13-1300-1b1d-28dc9e80e61e</td>\n",
       "    </tr>\n",
       "  </tbody>\n",
       "</table>\n",
       "<p>870 rows × 9 columns</p>\n",
       "</div>"
      ],
      "text/plain": [
       "                      event_time event_type  product_id          category_id  \\\n",
       "50716    2019-12-01 12:31:50 UTC   purchase     5749198  1487580013053083824   \n",
       "53352    2019-12-01 12:54:34 UTC   purchase     5749199  1487580013053083824   \n",
       "53353    2019-12-01 12:54:34 UTC   purchase     5743974  1487580013053083824   \n",
       "61622    2019-12-01 14:12:43 UTC   purchase     5767492  1487580013053083824   \n",
       "61623    2019-12-01 14:12:43 UTC   purchase     5775814  1487580013053083824   \n",
       "...                          ...        ...         ...                  ...   \n",
       "3494737  2019-12-30 20:27:25 UTC   purchase     5788783  1487580013053083824   \n",
       "3494738  2019-12-30 20:27:25 UTC   purchase     5820598  1487580013053083824   \n",
       "3521095  2019-12-31 13:30:39 UTC   purchase     5788781  1487580013053083824   \n",
       "3526621  2019-12-31 17:05:26 UTC   purchase     5749199  1487580013053083824   \n",
       "3526623  2019-12-31 17:05:26 UTC   purchase     5766980  1487580013053083824   \n",
       "\n",
       "               category_code    brand  price    user_id  \\\n",
       "50716    stationery.cartrige  italwax   1.98  580143586   \n",
       "53352    stationery.cartrige  italwax   1.98  565007305   \n",
       "53353    stationery.cartrige  italwax   1.98  565007305   \n",
       "61622    stationery.cartrige  italwax   1.98  580289157   \n",
       "61623    stationery.cartrige  italwax   1.98  580289157   \n",
       "...                      ...      ...    ...        ...   \n",
       "3494737  stationery.cartrige  italwax   1.98  594898291   \n",
       "3494738  stationery.cartrige     yoko   2.17  594898291   \n",
       "3521095  stationery.cartrige  italwax   1.98  590930962   \n",
       "3526621  stationery.cartrige  italwax   1.98  594988969   \n",
       "3526623  stationery.cartrige  italwax   1.98  594988969   \n",
       "\n",
       "                                 user_session  \n",
       "50716    f3922290-7fa4-1baa-fe3f-ca74c2eb2864  \n",
       "53352    2a31198f-a493-4133-90fc-e4a057f27dd3  \n",
       "53353    2a31198f-a493-4133-90fc-e4a057f27dd3  \n",
       "61622    ff5aadd2-42f5-4347-9f00-41934e79d69c  \n",
       "61623    ff5aadd2-42f5-4347-9f00-41934e79d69c  \n",
       "...                                       ...  \n",
       "3494737  7bdae0c9-f1c9-4da6-a467-5a4b59e06dd8  \n",
       "3494738  7bdae0c9-f1c9-4da6-a467-5a4b59e06dd8  \n",
       "3521095  11163a77-6b54-4242-88de-15ecceb72835  \n",
       "3526621  cf485924-6d13-1300-1b1d-28dc9e80e61e  \n",
       "3526623  cf485924-6d13-1300-1b1d-28dc9e80e61e  \n",
       "\n",
       "[870 rows x 9 columns]"
      ]
     },
     "execution_count": 10,
     "metadata": {},
     "output_type": "execute_result"
    }
   ],
   "source": [
    "cartridge_df"
   ]
  },
  {
   "cell_type": "code",
   "execution_count": 11,
   "id": "b114a19b-a6e8-4156-aaf1-954c0567a754",
   "metadata": {},
   "outputs": [
    {
     "data": {
      "text/plain": [
       "brand\n",
       "depilflax    154\n",
       "italwax      657\n",
       "profepil       4\n",
       "runail        29\n",
       "yoko          26\n",
       "dtype: int64"
      ]
     },
     "execution_count": 11,
     "metadata": {},
     "output_type": "execute_result"
    }
   ],
   "source": [
    "cartridge_df.groupby(\"brand\").size()"
   ]
  },
  {
   "cell_type": "code",
   "execution_count": 12,
   "id": "67c87b17-4ab3-4122-b577-dfd889deb245",
   "metadata": {},
   "outputs": [],
   "source": [
    "#count the uq brands per session\n",
    "sess_stats = cartridge_df.groupby(['user_id','user_session']).agg(\n",
    "    n_brands=('brand','nunique')\n",
    ").reset_index()"
   ]
  },
  {
   "cell_type": "code",
   "execution_count": 13,
   "id": "565164e1-1e4e-4a65-a6db-23c57481bc8e",
   "metadata": {},
   "outputs": [
    {
     "data": {
      "text/html": [
       "<div>\n",
       "<style scoped>\n",
       "    .dataframe tbody tr th:only-of-type {\n",
       "        vertical-align: middle;\n",
       "    }\n",
       "\n",
       "    .dataframe tbody tr th {\n",
       "        vertical-align: top;\n",
       "    }\n",
       "\n",
       "    .dataframe thead th {\n",
       "        text-align: right;\n",
       "    }\n",
       "</style>\n",
       "<table border=\"1\" class=\"dataframe\">\n",
       "  <thead>\n",
       "    <tr style=\"text-align: right;\">\n",
       "      <th></th>\n",
       "      <th>user_id</th>\n",
       "      <th>user_session</th>\n",
       "      <th>n_brands</th>\n",
       "    </tr>\n",
       "  </thead>\n",
       "  <tbody>\n",
       "    <tr>\n",
       "      <th>0</th>\n",
       "      <td>77415158</td>\n",
       "      <td>c04eab3f-6d86-4e26-814a-39f4020494f3</td>\n",
       "      <td>1</td>\n",
       "    </tr>\n",
       "    <tr>\n",
       "      <th>1</th>\n",
       "      <td>164121230</td>\n",
       "      <td>64178f2a-8434-44af-9bdb-92d70f6c023c</td>\n",
       "      <td>1</td>\n",
       "    </tr>\n",
       "    <tr>\n",
       "      <th>2</th>\n",
       "      <td>164121230</td>\n",
       "      <td>66165ad1-f107-b84f-1f75-b1244302a1e7</td>\n",
       "      <td>1</td>\n",
       "    </tr>\n",
       "    <tr>\n",
       "      <th>3</th>\n",
       "      <td>231183945</td>\n",
       "      <td>34d3e6c9-9307-4b9a-8f60-3f36103f54a8</td>\n",
       "      <td>1</td>\n",
       "    </tr>\n",
       "    <tr>\n",
       "      <th>4</th>\n",
       "      <td>232501653</td>\n",
       "      <td>2700869a-f35d-4dae-9f3b-6fb46910ab5a</td>\n",
       "      <td>1</td>\n",
       "    </tr>\n",
       "    <tr>\n",
       "      <th>...</th>\n",
       "      <td>...</td>\n",
       "      <td>...</td>\n",
       "      <td>...</td>\n",
       "    </tr>\n",
       "    <tr>\n",
       "      <th>423</th>\n",
       "      <td>594030396</td>\n",
       "      <td>2d7350f2-79dc-48b5-b7e9-5e6c5cd1d75b</td>\n",
       "      <td>1</td>\n",
       "    </tr>\n",
       "    <tr>\n",
       "      <th>424</th>\n",
       "      <td>594030396</td>\n",
       "      <td>3bf63a5d-eafb-4ada-a1de-d9783654b951</td>\n",
       "      <td>1</td>\n",
       "    </tr>\n",
       "    <tr>\n",
       "      <th>425</th>\n",
       "      <td>594301711</td>\n",
       "      <td>7befa68a-72a4-47b8-a3f4-3519a211cfd3</td>\n",
       "      <td>1</td>\n",
       "    </tr>\n",
       "    <tr>\n",
       "      <th>426</th>\n",
       "      <td>594898291</td>\n",
       "      <td>7bdae0c9-f1c9-4da6-a467-5a4b59e06dd8</td>\n",
       "      <td>2</td>\n",
       "    </tr>\n",
       "    <tr>\n",
       "      <th>427</th>\n",
       "      <td>594988969</td>\n",
       "      <td>cf485924-6d13-1300-1b1d-28dc9e80e61e</td>\n",
       "      <td>1</td>\n",
       "    </tr>\n",
       "  </tbody>\n",
       "</table>\n",
       "<p>428 rows × 3 columns</p>\n",
       "</div>"
      ],
      "text/plain": [
       "       user_id                          user_session  n_brands\n",
       "0     77415158  c04eab3f-6d86-4e26-814a-39f4020494f3         1\n",
       "1    164121230  64178f2a-8434-44af-9bdb-92d70f6c023c         1\n",
       "2    164121230  66165ad1-f107-b84f-1f75-b1244302a1e7         1\n",
       "3    231183945  34d3e6c9-9307-4b9a-8f60-3f36103f54a8         1\n",
       "4    232501653  2700869a-f35d-4dae-9f3b-6fb46910ab5a         1\n",
       "..         ...                                   ...       ...\n",
       "423  594030396  2d7350f2-79dc-48b5-b7e9-5e6c5cd1d75b         1\n",
       "424  594030396  3bf63a5d-eafb-4ada-a1de-d9783654b951         1\n",
       "425  594301711  7befa68a-72a4-47b8-a3f4-3519a211cfd3         1\n",
       "426  594898291  7bdae0c9-f1c9-4da6-a467-5a4b59e06dd8         2\n",
       "427  594988969  cf485924-6d13-1300-1b1d-28dc9e80e61e         1\n",
       "\n",
       "[428 rows x 3 columns]"
      ]
     },
     "execution_count": 13,
     "metadata": {},
     "output_type": "execute_result"
    }
   ],
   "source": [
    "sess_stats"
   ]
  },
  {
   "cell_type": "code",
   "execution_count": 14,
   "id": "8ac9cb35-aabf-4087-90d9-5e7b00cc8268",
   "metadata": {},
   "outputs": [
    {
     "name": "stdout",
     "output_type": "stream",
     "text": [
      "Fraction of sessions by number of distinct brands:\n",
      " n_brands\n",
      "1    0.894860\n",
      "2    0.095794\n",
      "3    0.009346\n",
      "Name: proportion, dtype: float64\n"
     ]
    }
   ],
   "source": [
    "sess_summary = sess_stats['n_brands'].value_counts(normalize=True).sort_index() # check how many purchase involved 1, 2... n brands etc.\n",
    "print(\"Fraction of sessions by number of distinct brands:\\n\", sess_summary)"
   ]
  },
  {
   "cell_type": "markdown",
   "id": "89a0b1b0-58b6-42bd-b362-ab15841a5432",
   "metadata": {},
   "source": [
    "Since the proportion is dominated by single-brand purchases, we can drop the user_session feature and assume that each purchase only involved one brand."
   ]
  },
  {
   "cell_type": "code",
   "execution_count": 15,
   "id": "f0b31022-7d6c-4ff6-8f6e-ee2375f8064d",
   "metadata": {},
   "outputs": [],
   "source": [
    "df_min = cartridge_df[['event_time','user_id','brand','price']].copy()"
   ]
  },
  {
   "cell_type": "code",
   "execution_count": 16,
   "id": "54fc56eb-43aa-450c-aebc-8d2328c100ff",
   "metadata": {},
   "outputs": [
    {
     "data": {
      "text/html": [
       "<div>\n",
       "<style scoped>\n",
       "    .dataframe tbody tr th:only-of-type {\n",
       "        vertical-align: middle;\n",
       "    }\n",
       "\n",
       "    .dataframe tbody tr th {\n",
       "        vertical-align: top;\n",
       "    }\n",
       "\n",
       "    .dataframe thead th {\n",
       "        text-align: right;\n",
       "    }\n",
       "</style>\n",
       "<table border=\"1\" class=\"dataframe\">\n",
       "  <thead>\n",
       "    <tr style=\"text-align: right;\">\n",
       "      <th></th>\n",
       "      <th>event_time</th>\n",
       "      <th>user_id</th>\n",
       "      <th>brand</th>\n",
       "      <th>price</th>\n",
       "    </tr>\n",
       "  </thead>\n",
       "  <tbody>\n",
       "    <tr>\n",
       "      <th>50716</th>\n",
       "      <td>2019-12-01 12:31:50 UTC</td>\n",
       "      <td>580143586</td>\n",
       "      <td>italwax</td>\n",
       "      <td>1.98</td>\n",
       "    </tr>\n",
       "    <tr>\n",
       "      <th>53352</th>\n",
       "      <td>2019-12-01 12:54:34 UTC</td>\n",
       "      <td>565007305</td>\n",
       "      <td>italwax</td>\n",
       "      <td>1.98</td>\n",
       "    </tr>\n",
       "    <tr>\n",
       "      <th>53353</th>\n",
       "      <td>2019-12-01 12:54:34 UTC</td>\n",
       "      <td>565007305</td>\n",
       "      <td>italwax</td>\n",
       "      <td>1.98</td>\n",
       "    </tr>\n",
       "    <tr>\n",
       "      <th>61622</th>\n",
       "      <td>2019-12-01 14:12:43 UTC</td>\n",
       "      <td>580289157</td>\n",
       "      <td>italwax</td>\n",
       "      <td>1.98</td>\n",
       "    </tr>\n",
       "    <tr>\n",
       "      <th>61623</th>\n",
       "      <td>2019-12-01 14:12:43 UTC</td>\n",
       "      <td>580289157</td>\n",
       "      <td>italwax</td>\n",
       "      <td>1.98</td>\n",
       "    </tr>\n",
       "    <tr>\n",
       "      <th>...</th>\n",
       "      <td>...</td>\n",
       "      <td>...</td>\n",
       "      <td>...</td>\n",
       "      <td>...</td>\n",
       "    </tr>\n",
       "    <tr>\n",
       "      <th>3494737</th>\n",
       "      <td>2019-12-30 20:27:25 UTC</td>\n",
       "      <td>594898291</td>\n",
       "      <td>italwax</td>\n",
       "      <td>1.98</td>\n",
       "    </tr>\n",
       "    <tr>\n",
       "      <th>3494738</th>\n",
       "      <td>2019-12-30 20:27:25 UTC</td>\n",
       "      <td>594898291</td>\n",
       "      <td>yoko</td>\n",
       "      <td>2.17</td>\n",
       "    </tr>\n",
       "    <tr>\n",
       "      <th>3521095</th>\n",
       "      <td>2019-12-31 13:30:39 UTC</td>\n",
       "      <td>590930962</td>\n",
       "      <td>italwax</td>\n",
       "      <td>1.98</td>\n",
       "    </tr>\n",
       "    <tr>\n",
       "      <th>3526621</th>\n",
       "      <td>2019-12-31 17:05:26 UTC</td>\n",
       "      <td>594988969</td>\n",
       "      <td>italwax</td>\n",
       "      <td>1.98</td>\n",
       "    </tr>\n",
       "    <tr>\n",
       "      <th>3526623</th>\n",
       "      <td>2019-12-31 17:05:26 UTC</td>\n",
       "      <td>594988969</td>\n",
       "      <td>italwax</td>\n",
       "      <td>1.98</td>\n",
       "    </tr>\n",
       "  </tbody>\n",
       "</table>\n",
       "<p>870 rows × 4 columns</p>\n",
       "</div>"
      ],
      "text/plain": [
       "                      event_time    user_id    brand  price\n",
       "50716    2019-12-01 12:31:50 UTC  580143586  italwax   1.98\n",
       "53352    2019-12-01 12:54:34 UTC  565007305  italwax   1.98\n",
       "53353    2019-12-01 12:54:34 UTC  565007305  italwax   1.98\n",
       "61622    2019-12-01 14:12:43 UTC  580289157  italwax   1.98\n",
       "61623    2019-12-01 14:12:43 UTC  580289157  italwax   1.98\n",
       "...                          ...        ...      ...    ...\n",
       "3494737  2019-12-30 20:27:25 UTC  594898291  italwax   1.98\n",
       "3494738  2019-12-30 20:27:25 UTC  594898291     yoko   2.17\n",
       "3521095  2019-12-31 13:30:39 UTC  590930962  italwax   1.98\n",
       "3526621  2019-12-31 17:05:26 UTC  594988969  italwax   1.98\n",
       "3526623  2019-12-31 17:05:26 UTC  594988969  italwax   1.98\n",
       "\n",
       "[870 rows x 4 columns]"
      ]
     },
     "execution_count": 16,
     "metadata": {},
     "output_type": "execute_result"
    }
   ],
   "source": [
    "df_min"
   ]
  },
  {
   "cell_type": "markdown",
   "id": "391081e7-7a09-476f-ae32-085ec080423f",
   "metadata": {},
   "source": [
    "# Split dataset"
   ]
  },
  {
   "cell_type": "code",
   "execution_count": 17,
   "id": "4690bb17-b01e-4aaf-a732-0c4ae7e49e3c",
   "metadata": {},
   "outputs": [],
   "source": [
    "def split_train_val_test(df, time_col='event_time', train_frac=0.7, val_frac=0.15, test_frac=0.15, by_time=True, seed=42):\n",
    "    \"\"\"\n",
    "    Split a DataFrame into train, validation, and test sets.\n",
    "    \n",
    "    Parameters:\n",
    "        df (pd.DataFrame): Input DataFrame.\n",
    "        time_col (str): Column to use for chronological splitting if by_time=True.\n",
    "        train_frac (float): Fraction for training set.\n",
    "        val_frac (float): Fraction for validation set.\n",
    "        test_frac (float): Fraction for test set.\n",
    "        by_time (bool): Whether to split by time (chronologically) or randomly.\n",
    "        seed (int): Random seed for reproducibility if by_time=False.\n",
    "        \n",
    "    Returns:\n",
    "        train_df, val_df, test_df (pd.DataFrame)\n",
    "    \"\"\"\n",
    "    assert abs(train_frac + val_frac + test_frac - 1.0) < 1e-6, \"Fractions must sum to 1.\"\n",
    "\n",
    "    if by_time:\n",
    "        df_sorted = df.sort_values(time_col)\n",
    "        n = len(df_sorted)\n",
    "        train_end = int(train_frac * n)\n",
    "        val_end = train_end + int(val_frac * n)\n",
    "        \n",
    "        train_df = df_sorted.iloc[:train_end].copy()\n",
    "        val_df = df_sorted.iloc[train_end:val_end].copy()\n",
    "        test_df = df_sorted.iloc[val_end:].copy()\n",
    "    else:\n",
    "        df_shuffled = df.sample(frac=1, random_state=seed).reset_index(drop=True)\n",
    "        n = len(df_shuffled)\n",
    "        train_end = int(train_frac * n)\n",
    "        val_end = train_end + int(val_frac * n)\n",
    "        \n",
    "        train_df = df_shuffled.iloc[:train_end].copy()\n",
    "        val_df = df_shuffled.iloc[train_end:val_end].copy()\n",
    "        test_df = df_shuffled.iloc[val_end:].copy()\n",
    "        \n",
    "    return train_df, val_df, test_df"
   ]
  },
  {
   "cell_type": "code",
   "execution_count": 18,
   "id": "a35bec88-480f-43ac-bc8e-6f5cf4857081",
   "metadata": {},
   "outputs": [],
   "source": [
    "train_df, val_df, test_df = split_train_val_test(df_min)"
   ]
  },
  {
   "cell_type": "code",
   "execution_count": 19,
   "id": "e3352030-d616-4daa-bc9a-9696f2581aaf",
   "metadata": {},
   "outputs": [
    {
     "data": {
      "text/plain": [
       "(609, 4)"
      ]
     },
     "execution_count": 19,
     "metadata": {},
     "output_type": "execute_result"
    }
   ],
   "source": [
    "train_df.shape"
   ]
  },
  {
   "cell_type": "code",
   "execution_count": 20,
   "id": "e508fb4b-b363-4449-9d79-92f35464cd87",
   "metadata": {},
   "outputs": [],
   "source": [
    "def prepare_likelihood_data(df, min_frac=0.01, period='W'):\n",
    "    \"\"\"\n",
    "    Prepare user × brand purchase counts for modeling, aggregated by time period.\n",
    "\n",
    "    Args:\n",
    "        df (pd.DataFrame): Columns ['event_time','user_id','brand','price']\n",
    "        min_frac (float): Minimum fraction to keep a brand; rare brands are labeled 'other'\n",
    "        period (str): 'D' for daily, 'W' for weekly\n",
    "\n",
    "    Returns:\n",
    "        user_brand_matrix (np.array) (n_user_periods, n_brands): Each row is a user–period, each column a brand, values are purchase counts.\n",
    "        user_total_purchases (np.array) (n_user_periods,): Total number of purchases for each user in that period.\n",
    "        user_ids (np.array) (n_user_periods, Tuple[2]): Each row is a tuple (user_id, period) identifying the user and time period.\n",
    "        brand_names (list) (n_brands): Names of the brands corresponding to the columns in user_brand_matrix.\n",
    "    \"\"\"\n",
    "    df['event_time'] = pd.to_datetime(df['event_time'], utc=True)\n",
    "    df['period'] = df['event_time'].dt.to_period(period)\n",
    "\n",
    "    # merge rare_brands\n",
    "    brand_counts = df['brand'].value_counts()\n",
    "    rare_brands = brand_counts[brand_counts / len(df) < min_frac].index\n",
    "    df['brand'] = df['brand'].where(~df['brand'].isin(rare_brands), 'other')\n",
    "    \n",
    "    # aggregate user × period × brand counts\n",
    "    user_brand_counts = df.groupby(['user_id', 'period', 'brand']).size().unstack(fill_value=0)\n",
    "    total_purchases_per_user = user_brand_counts.sum(axis=1)\n",
    "    user_period_ids = user_brand_counts.index.to_numpy()\n",
    "    brand_names = user_brand_counts.columns.tolist()\n",
    "    user_brand_matrix = user_brand_counts.values\n",
    "    user_total_purchases = total_purchases_per_user.values\n",
    "    \n",
    "    print(\"Prepared data shapes:\", user_brand_matrix.shape, user_total_purchases.shape)\n",
    "    \n",
    "    return user_brand_matrix, user_total_purchases, user_period_ids, brand_names"
   ]
  },
  {
   "cell_type": "code",
   "execution_count": 21,
   "id": "a3561723-e3d1-4ccd-90ef-4530f2435a15",
   "metadata": {},
   "outputs": [
    {
     "name": "stdout",
     "output_type": "stream",
     "text": [
      "Prepared data shapes: (289, 5) (289,)\n"
     ]
    },
    {
     "name": "stderr",
     "output_type": "stream",
     "text": [
      "C:\\Users\\Phu\\AppData\\Local\\Temp\\ipykernel_9708\\704499980.py:17: UserWarning: Converting to PeriodArray/Index representation will drop timezone information.\n",
      "  df['period'] = df['event_time'].dt.to_period(period)\n"
     ]
    }
   ],
   "source": [
    "user_brand_matrix, user_total_purchases, user_period_ids, brand_names = prepare_likelihood_data(train_df)"
   ]
  },
  {
   "cell_type": "code",
   "execution_count": 22,
   "id": "23326fe2-0947-4420-a464-4d710d99ed59",
   "metadata": {
    "scrolled": true
   },
   "outputs": [
    {
     "data": {
      "text/plain": [
       "(array([[0, 3, 0, 0, 0],\n",
       "        [0, 5, 0, 0, 0],\n",
       "        [0, 0, 0, 2, 0],\n",
       "        ...,\n",
       "        [1, 0, 0, 0, 0],\n",
       "        [0, 1, 0, 0, 0],\n",
       "        [0, 5, 0, 0, 0]], dtype=int64),\n",
       " array([ 3,  5,  2,  4,  3,  2,  1,  2,  1,  1,  2,  1,  2,  3,  3,  2,  2,\n",
       "         1,  1,  1,  2,  3,  1,  3,  2,  1,  1,  1,  1,  3,  2,  3,  6,  1,\n",
       "         1,  2,  3,  2,  1,  3,  2,  1,  3,  2,  1,  1,  3,  3,  1,  1,  1,\n",
       "         4,  5,  1,  1,  3,  1,  2,  1,  2,  1,  4,  2,  2,  1,  2,  1,  1,\n",
       "         1,  1,  2,  2,  2,  4,  1,  3,  6,  1, 14,  1,  2,  2,  3,  2,  3,\n",
       "         1,  3,  1,  5,  2,  1,  2,  1,  1,  1,  1,  1,  4,  2,  4,  3,  3,\n",
       "         3,  1,  1,  1,  1,  2,  1,  1,  3,  2,  2,  4,  1,  2,  1,  1,  2,\n",
       "         2,  2,  3,  1,  1,  1,  2,  3,  1,  1,  2,  2,  3,  2,  2,  3,  2,\n",
       "         2,  1,  1,  2,  1,  1,  4,  1,  2,  2,  2,  2,  1,  1,  1,  1,  1,\n",
       "         1,  2,  1,  1,  5,  2,  4,  1,  2,  4,  1,  2,  1,  2,  1,  1,  2,\n",
       "         4,  2,  4,  2,  2,  2,  1,  4,  1,  2,  1,  1,  5,  4,  2,  4,  2,\n",
       "         1,  2,  3,  2,  2,  1,  2,  1,  1,  2,  1,  3,  1,  1,  1,  2,  2,\n",
       "         2,  4,  3,  2, 10,  1,  1,  4,  1,  2,  1,  1,  1,  1,  6,  4,  1,\n",
       "         2,  1,  1,  3,  4,  1,  2,  1,  1,  4,  1,  1,  3,  4,  4,  1,  3,\n",
       "         2,  1,  2,  1,  4,  2,  5,  2,  2,  1,  3,  1,  1,  3,  1,  1,  6,\n",
       "         1,  6,  1,  2,  6,  1,  1,  1,  2,  2,  2, 12,  1,  1,  1,  2,  1,\n",
       "         2,  2,  1,  1,  3,  1,  1,  1,  1,  1,  4,  1,  3,  2,  1,  1,  5],\n",
       "       dtype=int64))"
      ]
     },
     "execution_count": 22,
     "metadata": {},
     "output_type": "execute_result"
    }
   ],
   "source": [
    "user_brand_matrix, user_total_purchases"
   ]
  },
  {
   "cell_type": "code",
   "execution_count": 23,
   "id": "04c23c8c-7e87-4f1e-8e14-9327d0d40cb5",
   "metadata": {},
   "outputs": [],
   "source": [
    "import torch\n",
    "import pyro\n",
    "import pyro.distributions as dist\n",
    "\n",
    "def market_share_model(user_brand_matrix, user_total_purchases):\n",
    "    device = user_brand_matrix.device\n",
    "    user_brand_matrix = user_brand_matrix.to(dtype=torch.long, device=device)\n",
    "    user_total_purchases = user_total_purchases.to(dtype=torch.long, device=device)\n",
    "\n",
    "    n_users, n_brands = user_brand_matrix.shape\n",
    "\n",
    "    alpha = pyro.sample(\n",
    "        \"alpha\",\n",
    "        dist.Gamma(torch.ones(n_brands, device=device), torch.ones(n_brands, device=device)).to_event(1)\n",
    "    )\n",
    "\n",
    "    with pyro.plate(\"users\", n_users):\n",
    "        lambda_u = pyro.sample(\n",
    "            \"lambda_user\",\n",
    "            dist.Gamma(2.0 * torch.ones(n_users, device=device),\n",
    "                       1.0 * torch.ones(n_users, device=device)).to_event(1)\n",
    "        )\n",
    "        pyro.sample(\n",
    "            \"Purchase_freq_obs\",\n",
    "            dist.Poisson(lambda_u),\n",
    "            obs=user_total_purchases.to(dtype=torch.float)\n",
    "        )\n",
    "\n",
    "    pyro.sample(\n",
    "        \"Brand_choice_obs\",\n",
    "        dist.DirichletMultinomial(total_count=user_total_purchases, concentration=alpha),\n",
    "        obs=user_brand_matrix\n",
    "    )"
   ]
  },
  {
   "cell_type": "code",
   "execution_count": 24,
   "id": "d7c455ef-e0aa-4e2b-b6b3-b7e899b41289",
   "metadata": {},
   "outputs": [],
   "source": [
    "from pyro.infer import MCMC, NUTS\n",
    "def run_mcmc(user_brand_matrix_np, user_total_purchases_np,\n",
    "             num_samples=1000, warmup_steps=400, num_chains=1, device='cuda'):\n",
    "    user_brand_matrix = torch.as_tensor(user_brand_matrix_np, dtype=torch.float32, device=device)\n",
    "    user_total_purchases = torch.as_tensor(user_total_purchases_np, dtype=torch.float32, device=device)\n",
    "    nuts_kernel = NUTS(market_share_model, adapt_step_size=True, target_accept_prob=0.8)\n",
    "    mcmc = MCMC(nuts_kernel,\n",
    "                num_samples=num_samples,\n",
    "                warmup_steps=warmup_steps,\n",
    "                num_chains=num_chains)\n",
    "    mcmc.run(user_brand_matrix, user_total_purchases)\n",
    "    posterior = mcmc.get_samples()\n",
    "    \n",
    "    return mcmc, posterior"
   ]
  },
  {
   "cell_type": "code",
   "execution_count": 25,
   "id": "6c5b6ed6-1a78-4af0-97b5-5ce1f8c1a3be",
   "metadata": {},
   "outputs": [
    {
     "name": "stderr",
     "output_type": "stream",
     "text": [
      "Sample: 100%|███████████████████████████████████████| 1400/1400 [08:51,  2.63it/s, step size=7.27e-02, acc. prob=0.864]\n"
     ]
    }
   ],
   "source": [
    "mcmc, posterior = run_mcmc(user_brand_matrix, user_total_purchases, device=\"cuda\")"
   ]
  },
  {
   "cell_type": "code",
   "execution_count": 26,
   "id": "96544ba0-fc01-4e2c-b8ea-a611fed5cbc4",
   "metadata": {},
   "outputs": [
    {
     "name": "stdout",
     "output_type": "stream",
     "text": [
      "Prepared data shapes: (61, 4) (61,)\n"
     ]
    },
    {
     "name": "stderr",
     "output_type": "stream",
     "text": [
      "C:\\Users\\Phu\\AppData\\Local\\Temp\\ipykernel_9708\\704499980.py:17: UserWarning: Converting to PeriodArray/Index representation will drop timezone information.\n",
      "  df['period'] = df['event_time'].dt.to_period(period)\n"
     ]
    }
   ],
   "source": [
    "test_user_brand_matrix, test_user_total_purchases, user_period_ids, brand_names = prepare_likelihood_data(test_df)"
   ]
  },
  {
   "cell_type": "code",
   "execution_count": 27,
   "id": "6ec00fe7-036c-4869-bfed-6ed859e50a32",
   "metadata": {},
   "outputs": [],
   "source": [
    "from pyro.infer import Predictive\n",
    "predictive = Predictive(\n",
    "    market_share_model,\n",
    "    posterior_samples=mcmc.get_samples(num_samples=1000),\n",
    "    return_sites=[\"Brand_choice_obs\", \"Purchase_freq_obs\", \"lambda_user\"]\n",
    ")\n",
    "\n",
    "post_samples = predictive(torch.from_numpy(user_brand_matrix).to('cuda'), torch.from_numpy(user_total_purchases).to('cuda'))"
   ]
  },
  {
   "cell_type": "code",
   "execution_count": 31,
   "id": "9a5fc1de-e845-48a1-9c22-0be6b6e26281",
   "metadata": {},
   "outputs": [],
   "source": [
    "def evaluate_brand_share_predictions(post_samples, observed_brand_matrix, compare_first_k=None):\n",
    "    \"\"\"\n",
    "    Compute predicted brand-share draws and summary metrics suitable for plotting.\n",
    "    Returns a dict with:\n",
    "        S: sample_counts, K: truncated_brand_numbers\n",
    "      - predicted_shares_draws : np.ndarray, shape (S, K)\n",
    "      - predicted_mean_shares  : np.ndarray, shape (K,)\n",
    "      - median_pred            : np.ndarray, shape (K,)\n",
    "      - lower_95               : np.ndarray, shape (K,)\n",
    "      - upper_95               : np.ndarray, shape (K,)\n",
    "      - observed_shares        : np.ndarray, shape (K,)\n",
    "      - euclidean_l2, rmse, mae : floats\n",
    "    \"\"\"\n",
    "    def to_tensor_cpu(x):\n",
    "        if isinstance(x, torch.Tensor):\n",
    "            return x.detach().cpu()\n",
    "        return torch.as_tensor(np.asarray(x))\n",
    "        \n",
    "    draws_tensor = to_tensor_cpu(post_samples[\"Brand_choice_obs\"])   # (samples, n_users_model, n_brands_model)\n",
    "    observed_matrix = to_tensor_cpu(observed_brand_matrix)          # (n_users_obs, n_brands_obs)\n",
    "\n",
    "    predicted_totals_per_draw = draws_tensor.sum(dim=1).to(dtype=torch.float32)\n",
    "    totals_per_draw = predicted_totals_per_draw.sum(dim=1, keepdim=True) + 1e-12\n",
    "    predicted_shares_per_draw = predicted_totals_per_draw / totals_per_draw    \n",
    "\n",
    "    predicted_shares_draws = predicted_shares_per_draw.numpy()\n",
    "    predicted_mean_shares = predicted_shares_draws.mean(axis=0)\n",
    "    median_pred = np.median(predicted_shares_draws, axis=0)\n",
    "    lower_95 = np.quantile(predicted_shares_draws, 0.025, axis=0)\n",
    "    upper_95 = np.quantile(predicted_shares_draws, 0.975, axis=0)\n",
    "\n",
    "    observed_totals = observed_matrix.sum(dim=0).to(dtype=torch.float32).numpy()\n",
    "    observed_shares_full = observed_totals / (observed_totals.sum() + 1e-12)\n",
    "    \n",
    "    if compare_first_k is not None:\n",
    "        K = int(compare_first_k)\n",
    "    else:\n",
    "        K = min(predicted_mean_shares.shape[0], observed_shares_full.shape[0])\n",
    "        \n",
    "    predicted_shares_draws = predicted_shares_draws[:, :K]\n",
    "    predicted_mean_shares = predicted_mean_shares[:K]\n",
    "    median_pred = median_pred[:K]\n",
    "    lower_95 = lower_95[:K]\n",
    "    upper_95 = upper_95[:K]\n",
    "    observed_shares = observed_shares_full[:K]\n",
    "    \n",
    "    diff = predicted_mean_shares - observed_shares\n",
    "    euclidean_l2 = float(torch.linalg.norm(torch.from_numpy(diff)).item())\n",
    "    rmse = float(np.sqrt(np.mean(diff**2)))\n",
    "    mae = float(np.mean(np.abs(diff)))\n",
    "\n",
    "    return {\n",
    "        \"predicted_shares_draws\": predicted_shares_draws,   # (S, K)\n",
    "        \"predicted_mean_shares\": predicted_mean_shares,     # (K,)\n",
    "        \"median_pred\": median_pred,                         # (K,)\n",
    "        \"lower_95\": lower_95,                               # (K,)\n",
    "        \"upper_95\": upper_95,                               # (K,)\n",
    "        \"observed_shares\": observed_shares,                 # (K,)\n",
    "        \"euclidean_l2\": euclidean_l2,\n",
    "        \"rmse\": rmse,\n",
    "        \"mae\": mae\n",
    "    }"
   ]
  },
  {
   "cell_type": "markdown",
   "id": "aae59226-5ddc-419a-9ec3-d4f11c193bed",
   "metadata": {},
   "source": [
    "# Plotting"
   ]
  },
  {
   "cell_type": "code",
   "execution_count": 29,
   "id": "5cc04c7c-1937-485e-a047-10d5ed11b0b8",
   "metadata": {},
   "outputs": [],
   "source": [
    "import matplotlib.pyplot as plt\n",
    "from matplotlib.patches import Patch\n",
    "from matplotlib.lines import Line2D\n",
    "\n",
    "def plot_brand_share_posterior(sim_brand_share, obs_brand_share, brand_names=None):\n",
    "    if isinstance(sim_brand_share, torch.Tensor):\n",
    "        posterior_samples = sim_brand_share.detach().cpu().numpy()\n",
    "    else:\n",
    "        posterior_samples = np.asarray(sim_brand_share)\n",
    "        \n",
    "    n_brands = len(obs_brand_share)\n",
    "    posterior_samples = posterior_samples[:, :n_brands]\n",
    "    observed_shares = np.asarray(obs_brand_share)\n",
    "\n",
    "    brand_indices = np.arange(n_brands)\n",
    "\n",
    "    if brand_names is None:\n",
    "        labels = [f'B{k}' for k in brand_indices]\n",
    "    else:\n",
    "        if len(brand_names) != n_brands:\n",
    "            raise ValueError(\"Length of brand_names must match number of brands\")\n",
    "        labels = brand_names\n",
    "        \n",
    "    median_pred = np.median(posterior_samples, axis=0)\n",
    "    lower_95 = np.quantile(posterior_samples, 0.025, axis=0)\n",
    "    upper_95 = np.quantile(posterior_samples, 0.975, axis=0)\n",
    "\n",
    "    print(\"Posterior predictive 95% credible intervals per brand:\")\n",
    "    for k in range(n_brands):\n",
    "        print(f\"{labels[k]}: median={median_pred[k]:.3f}, 95% CI=({lower_95[k]:.3f}, {upper_95[k]:.3f}), obs={observed_shares[k]:.3f}\")\n",
    "\n",
    "    fig, ax = plt.subplots(figsize=(min(12, n_brands*0.6), 5))\n",
    "\n",
    "    violin_parts = ax.violinplot(posterior_samples, positions=brand_indices,\n",
    "                                 showmeans=False, showmedians=True, showextrema=True)\n",
    "    for body in violin_parts['bodies']:\n",
    "        body.set_facecolor('#1f77b4')\n",
    "        body.set_edgecolor('black')\n",
    "        body.set_alpha(0.7)\n",
    "\n",
    "    ax.vlines(brand_indices, lower_95, upper_95, color='black', lw=2, alpha=0.8, label=\"95% CI\")\n",
    "\n",
    "    ax.scatter(brand_indices, observed_shares, color='red', zorder=5, marker='D', s=40)\n",
    "    legend_handles = [\n",
    "        Patch(facecolor='#1f77b4', edgecolor='black', alpha=0.7, label='Posterior predictive'),\n",
    "        Line2D([0], [0], color='black', lw=2, label='Median (posterior)'),\n",
    "        Line2D([0], [0], color='black', lw=2, alpha=0.8, label='95% CI'),\n",
    "        Line2D([0], [0], marker='D', color='w', markerfacecolor='red', markersize=8, label='Observed')\n",
    "    ]\n",
    "    ax.legend(handles=legend_handles, loc='upper left', bbox_to_anchor=(1.02, 1), borderaxespad=0)\n",
    "\n",
    "    ax.set_xticks(brand_indices)\n",
    "    ax.set_xticklabels(labels, rotation=45)\n",
    "    ax.set_ylabel('Brand share')\n",
    "    ax.set_title('Posterior predictive distribution of brand share vs observed')\n",
    "    ax.grid(True, linestyle='--', alpha=0.5)\n",
    "    plt.tight_layout()\n",
    "    plt.show()"
   ]
  },
  {
   "cell_type": "code",
   "execution_count": 30,
   "id": "a78dd8d3-9f3b-4549-b263-553df94fd7f1",
   "metadata": {},
   "outputs": [
    {
     "name": "stdout",
     "output_type": "stream",
     "text": [
      "RMSE: 0.03170614317059517 MAE: 0.027039755135774612\n",
      "Posterior predictive 95% credible intervals per brand:\n",
      "depilflax: median=0.169, 95% CI=(0.169, 0.169), obs=0.145\n",
      "italwax: median=0.775, 95% CI=(0.775, 0.775), obs=0.756\n",
      "runail: median=0.005, 95% CI=(0.005, 0.005), obs=0.015\n",
      "yoko: median=0.030, 95% CI=(0.030, 0.030), obs=0.084\n"
     ]
    },
    {
     "name": "stderr",
     "output_type": "stream",
     "text": [
      "C:\\Users\\Phu\\AppData\\Local\\Temp\\ipykernel_9708\\504090413.py:57: UserWarning: Tight layout not applied. The left and right margins cannot be made large enough to accommodate all Axes decorations.\n",
      "  plt.tight_layout()\n"
     ]
    },
    {
     "data": {
      "image/png": "[encoded data removed]",
      "text/plain": [
       "<Figure size 240x500 with 1 Axes>"
      ]
     },
     "metadata": {},
     "output_type": "display_data"
    }
   ],
   "source": [
    "results = evaluate_brand_share_predictions(post_samples, test_user_brand_matrix, compare_first_k=4)\n",
    "\n",
    "print(\"RMSE:\", results[\"rmse\"], \"MAE:\", results[\"mae\"])\n",
    "\n",
    "plot_brand_share_posterior(results[\"predicted_shares_draws\"], results[\"observed_shares\"], brand_names=brand_names[:4])"
   ]
  },
  {
   "cell_type": "code",
   "execution_count": null,
   "id": "4314adab-2592-430b-8217-ef36a71c17c2",
   "metadata": {},
   "outputs": [],
   "source": []
  }
 ],
 "metadata": {
  "kernelspec": {
   "display_name": "Python 3 (ipykernel)",
   "language": "python",
   "name": "python3"
  },
  "language_info": {
   "codemirror_mode": {
    "name": "ipython",
    "version": 3
   },
   "file_extension": ".py",
   "mimetype": "text/x-python",
   "name": "python",
   "nbconvert_exporter": "python",
   "pygments_lexer": "ipython3",
   "version": "3.11.13"
  }
 },
 "nbformat": 4,
 "nbformat_minor": 5
}
